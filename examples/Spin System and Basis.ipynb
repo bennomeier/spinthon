{
 "cells": [
  {
   "cell_type": "code",
   "execution_count": 6,
   "metadata": {},
   "outputs": [],
   "source": [
    "#requires source activate snakes\n",
    "from importlib import reload\n",
    "\n",
    "import spinthon.basis.zeeman\n",
    "import spinthon.basis.methyl\n",
    "from spinthon.spin import system\n",
    "\n",
    "import spinthon.basis.singletTriplet"
   ]
  },
  {
   "cell_type": "code",
   "execution_count": 7,
   "metadata": {},
   "outputs": [],
   "source": [
    "S1 = system.SpinSystem([\"1H\", \"1H\", \"1H\", \"13C\"])\n",
    "S2 = system.SpinSystem([\"1H\", \"1H\", \"17O\"])\n",
    "S3 = system.SpinSystem([\"1H\", \"1H\"])\n",
    "\n",
    "S2.addGeometry(\"O17water\")"
   ]
  },
  {
   "cell_type": "code",
   "execution_count": 8,
   "metadata": {},
   "outputs": [
    {
     "name": "stdout",
     "output_type": "stream",
     "text": [
      "O17 Water\n"
     ]
    },
    {
     "data": {
      "text/plain": [
       "1.0002e-10"
      ]
     },
     "execution_count": 8,
     "metadata": {},
     "output_type": "execute_result"
    }
   ],
   "source": [
    "print(S2.geometry)\n",
    "S2.geometry.distance(0,2)"
   ]
  },
  {
   "cell_type": "code",
   "execution_count": 9,
   "metadata": {},
   "outputs": [
    {
     "name": "stdout",
     "output_type": "stream",
     "text": [
      "Zeeman Product Basis\n",
      "1.00 x|0.5,0.5,0.5,0.5>\n",
      "1.00 x|0.5,0.5,0.5,-0.5>\n",
      "1.00 x|0.5,0.5,-0.5,0.5>\n",
      "1.00 x|0.5,0.5,-0.5,-0.5>\n",
      "1.00 x|0.5,-0.5,0.5,0.5>\n",
      "1.00 x|0.5,-0.5,0.5,-0.5>\n",
      "1.00 x|0.5,-0.5,-0.5,0.5>\n",
      "1.00 x|0.5,-0.5,-0.5,-0.5>\n",
      "1.00 x|-0.5,0.5,0.5,0.5>\n",
      "1.00 x|-0.5,0.5,0.5,-0.5>\n",
      "1.00 x|-0.5,0.5,-0.5,0.5>\n",
      "1.00 x|-0.5,0.5,-0.5,-0.5>\n",
      "1.00 x|-0.5,-0.5,0.5,0.5>\n",
      "1.00 x|-0.5,-0.5,0.5,-0.5>\n",
      "1.00 x|-0.5,-0.5,-0.5,0.5>\n",
      "1.00 x|-0.5,-0.5,-0.5,-0.5>\n"
     ]
    }
   ],
   "source": [
    "S1.basis = spinthon.basis.zeeman.ZeemanProductBasis(S1)\n",
    "S3.basis = spinthon.basis.singletTriplet.SingletTripletBasis(S3)\n",
    "\n",
    "#S1.basis = spinthon.basis.methyl.methyl_A_E(S1)\n",
    "\n",
    "print(S1.basis.name)\n",
    "\n",
    "for b in S1.basis:\n",
    "    print(b)"
   ]
  },
  {
   "cell_type": "code",
   "execution_count": null,
   "metadata": {},
   "outputs": [],
   "source": []
  },
  {
   "cell_type": "code",
   "execution_count": null,
   "metadata": {},
   "outputs": [],
   "source": []
  }
 ],
 "metadata": {
  "kernelspec": {
   "display_name": "Python 3",
   "language": "python",
   "name": "python3"
  },
  "language_info": {
   "codemirror_mode": {
    "name": "ipython",
    "version": 3
   },
   "file_extension": ".py",
   "mimetype": "text/x-python",
   "name": "python",
   "nbconvert_exporter": "python",
   "pygments_lexer": "ipython3",
   "version": "3.8.5"
  }
 },
 "nbformat": 4,
 "nbformat_minor": 4
}
