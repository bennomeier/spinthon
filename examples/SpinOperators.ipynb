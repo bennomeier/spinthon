{
 "cells": [
  {
   "cell_type": "code",
   "execution_count": 1,
   "metadata": {},
   "outputs": [],
   "source": [
    "from importlib import reload\n",
    "\n",
    "from numpy import pi\n",
    "import numpy as np\n",
    "\n",
    "import spinthon.basis.zeeman\n",
    "import spinthon.basis.methyl\n",
    "from spinthon.spin import system\n",
    "\n",
    "import spinthon.basis.singletTriplet"
   ]
  },
  {
   "cell_type": "code",
   "execution_count": 4,
   "metadata": {},
   "outputs": [],
   "source": [
    "S1 = system.SpinSystem([\"1H\", \"1H\", \"1H\", \"13C\"])\n",
    "S2 = system.SpinSystem([\"1H\", \"1H\", \"17O\"])\n",
    "S3 = system.SpinSystem([\"1H\", \"1H\"])\n",
    "\n",
    "S4 = system.SpinSystem([\"2H\"])\n",
    "\n",
    "S2.basis = spinthon.basis.singletTriplet.SingletTripletBasis(S2)"
   ]
  },
  {
   "cell_type": "code",
   "execution_count": 6,
   "metadata": {},
   "outputs": [
    {
     "data": {
      "text/plain": [
       "<module 'spinthon.spin.operators' from '/home/benno/Dropbox/Software/spinthon/spinthon/spin/operators.py'>"
      ]
     },
     "execution_count": 6,
     "metadata": {},
     "output_type": "execute_result"
    }
   ],
   "source": [
    "from spinthon.spin.operators import SpinOperator, VectorSpinOperator\n",
    "reload(spinthon.spin.operators)"
   ]
  },
  {
   "cell_type": "code",
   "execution_count": 9,
   "metadata": {},
   "outputs": [
    {
     "name": "stdout",
     "output_type": "stream",
     "text": [
      "[[ 2.+0.j  0.+0.j  0.+0.j  0.+0.j]\n",
      " [ 0.+0.j  0.+0.j  0.+0.j  0.+0.j]\n",
      " [ 0.+0.j  0.+0.j  0.+0.j  0.+0.j]\n",
      " [ 0.+0.j  0.+0.j  0.+0.j -2.+0.j]]\n",
      "[[1.+0.j 0.+0.j 0.+0.j 0.+0.j]\n",
      " [0.+0.j 1.+0.j 0.+0.j 0.+0.j]\n",
      " [0.+0.j 0.+0.j 1.-0.j 0.+0.j]\n",
      " [0.+0.j 0.+0.j 0.+0.j 1.-0.j]]\n",
      "[[4.+0.j 0.+0.j 0.+0.j 0.+0.j]\n",
      " [0.+0.j 0.+0.j 0.+0.j 0.+0.j]\n",
      " [0.+0.j 0.+0.j 0.+0.j 0.+0.j]\n",
      " [0.+0.j 0.+0.j 0.+0.j 0.+0.j]]\n"
     ]
    }
   ],
   "source": [
    "I1z = SpinOperator(S3, 0, \"Iz\").getMatrixRepresentation()\n",
    "I2z = SpinOperator(S3, 1, \"Iz\").getMatrixRepresentation()\n",
    "print(2*I1z+2*I2z)\n",
    "print(4*I1z*I1z)\n",
    "print(2*I1z+2*I2z+4*I1z*I2z + SpinOperator(S3, 0, \"1\").getMatrixRepresentation())"
   ]
  },
  {
   "cell_type": "code",
   "execution_count": 11,
   "metadata": {},
   "outputs": [
    {
     "name": "stdout",
     "output_type": "stream",
     "text": [
      "[+1Ix₀, +1Iy₀, +1Iz₀]\n"
     ]
    }
   ],
   "source": [
    "I0 = VectorSpinOperator(S1, 0)\n",
    "print(I0)"
   ]
  }
 ],
 "metadata": {
  "kernelspec": {
   "display_name": "Python 3",
   "language": "python",
   "name": "python3"
  },
  "language_info": {
   "codemirror_mode": {
    "name": "ipython",
    "version": 3
   },
   "file_extension": ".py",
   "mimetype": "text/x-python",
   "name": "python",
   "nbconvert_exporter": "python",
   "pygments_lexer": "ipython3",
   "version": "3.8.5"
  }
 },
 "nbformat": 4,
 "nbformat_minor": 4
}
