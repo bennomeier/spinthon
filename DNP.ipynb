{
 "cells": [
  {
   "cell_type": "code",
   "execution_count": 1,
   "metadata": {},
   "outputs": [],
   "source": [
    "from importlib import reload\n",
    "\n",
    "\n",
    "\n",
    "from numpy import pi\n",
    "import numpy as np\n",
    "\n",
    "import spindata\n",
    "\n",
    "import spinthon.basis.zeeman\n",
    "import spinthon.basis.methyl\n",
    "from spinthon.spin import system\n",
    "\n",
    "import spinthon.spin.geometry\n",
    "\n",
    "import spinthon.basis.singletTriplet"
   ]
  },
  {
   "cell_type": "code",
   "execution_count": 6,
   "metadata": {},
   "outputs": [],
   "source": [
    "S1 = system.spinSystem([\"E\", \"E\", \"1H\"])\n",
    "\n",
    "S1.basis = spinthon.basis.zeeman.zeemanProductBasis(S1)\n",
    "\n",
    "S1.geometry = spinthon.spin.geometry.Geometry(S1)\n",
    "S1.geometry.setMiniDNPGeometry()"
   ]
  },
  {
   "cell_type": "code",
   "execution_count": 7,
   "metadata": {},
   "outputs": [
    {
     "data": {
      "text/plain": [
       "<module 'spinthon.spin.operators' from '/Users/benno/gitRepos/spinthon/spinthon/spin/operators.py'>"
      ]
     },
     "execution_count": 7,
     "metadata": {},
     "output_type": "execute_result"
    }
   ],
   "source": [
    "from spinthon.spin.operators import spinOperator, rotationOperatorSingle, rotationOperator, rotationOperatorDirect\n",
    "reload(spinthon.spin.operators)"
   ]
  },
  {
   "cell_type": "code",
   "execution_count": 24,
   "metadata": {},
   "outputs": [],
   "source": [
    "# now construct the Hamiltonian\n",
    "# Electron, Eq. 2 in Wenckebach JMR 299\n",
    "\n",
    "S1z = spinOperator(S1, 0, \"Iz\").getMatrixRepresentation()\n",
    "S2z = spinOperator(S1, 1, \"Iz\").getMatrixRepresentation()\n",
    "\n",
    "S1p = spinOperator(S1, 0, \"Ip\").getMatrixRepresentation()\n",
    "S2p = spinOperator(S1, 1, \"Ip\").getMatrixRepresentation()\n",
    "\n",
    "S1m = spinOperator(S1, 0, \"Im\").getMatrixRepresentation()\n",
    "S2m = spinOperator(S1, 1, \"Im\").getMatrixRepresentation()\n",
    "\n",
    "omegaS1 = 1\n",
    "omegaS2 = 2\n",
    "Dzz = 3\n",
    "Dpm = 2\n",
    "\n",
    "H_S = omegaS1*S1z + omegaS2*S2z + Dzz*S1z*S2z + 1/2*Dpm*(S1p*S2m + S1m*S2p)\n",
    "\n",
    "# nuclear\n",
    "omegaI = 0.01\n",
    "Iz = spinOperator(S2, 0, \"Iz\").getMatrixRepresentation()\n",
    "Z_I = - omegaI*Iz\n",
    "\n",
    "\n",
    "\n",
    "r = 1e-9\n",
    "theta = 0.3\n",
    "\n",
    "Azp = A(\"z+\", \"1H\", 1e-9, 0.3)\n",
    "Azm = A(\"z-\", \"1H\", 1e-9, 0.3)\n",
    "# now we can write the hyperfine interaction\n"
   ]
  },
  {
   "cell_type": "code",
   "execution_count": 17,
   "metadata": {},
   "outputs": [
    {
     "name": "stdout",
     "output_type": "stream",
     "text": [
      "(5-3j)\n",
      "[[ 0.70710678+0.j -0.70710678+0.j  0.        +0.j  0.        +0.j]\n",
      " [ 0.70710678+0.j  0.70710678+0.j  0.        +0.j  0.        +0.j]\n",
      " [ 0.        +0.j  0.        +0.j  0.70710678+0.j -0.70710678+0.j]\n",
      " [ 0.        +0.j  0.        +0.j  0.70710678+0.j  0.70710678+0.j]]\n"
     ]
    }
   ],
   "source": [
    "print(np.conj(5+3j))\n",
    "\n",
    "R1 = rotationOperatorSingle(S1, 0, pi/2, pi/2)\n",
    "R2 = rotationOperatorSingle(S1, 1, pi/2, pi/2)\n",
    "\n",
    "print(R2.matrix)"
   ]
  },
  {
   "cell_type": "code",
   "execution_count": 6,
   "metadata": {},
   "outputs": [
    {
     "name": "stdout",
     "output_type": "stream",
     "text": [
      "[[1.+0.j 1.+0.j 1.+0.j 1.+0.j]\n",
      " [1.+0.j 1.+0.j 1.+0.j 1.+0.j]\n",
      " [1.+0.j 1.+0.j 1.+0.j 1.+0.j]\n",
      " [1.+0.j 1.+0.j 1.+0.j 1.+0.j]]\n"
     ]
    }
   ],
   "source": [
    "# first is flip angle, then is phase\n",
    "R1 = rotationOperator(S3, pi/2, pi/2)\n",
    "R2 = rotationOperator(S3, -pi/2, pi/2)\n",
    "print(4 * R1.matrix @ np.diag([1,0,0,0]) @ R2.matrix)"
   ]
  },
  {
   "cell_type": "code",
   "execution_count": 7,
   "metadata": {},
   "outputs": [
    {
     "name": "stdout",
     "output_type": "stream",
     "text": [
      "[[ 1.+0.j -1.+0.j -1.+0.j  1.+0.j]\n",
      " [ 1.+0.j  1.+0.j -1.+0.j -1.+0.j]\n",
      " [ 1.+0.j -1.+0.j  1.+0.j -1.+0.j]\n",
      " [ 1.+0.j  1.+0.j  1.+0.j  1.+0.j]]\n",
      "[[ 1.+0.j -1.+0.j -1.+0.j  1.+0.j]\n",
      " [ 1.+0.j  1.+0.j -1.+0.j -1.+0.j]\n",
      " [ 1.+0.j -1.+0.j  1.+0.j -1.+0.j]\n",
      " [ 1.+0.j  1.+0.j  1.+0.j  1.+0.j]]\n"
     ]
    }
   ],
   "source": [
    "R3 = rotationOperatorDirect(S3, pi/2, pi/2)\n",
    "print(2*R3.matrix)\n",
    "print(2*R1.matrix)"
   ]
  },
  {
   "cell_type": "code",
   "execution_count": 6,
   "metadata": {},
   "outputs": [
    {
     "data": {
      "text/plain": [
       "array([ 1.58670668,  0.        ,  0.        ])"
      ]
     },
     "execution_count": 6,
     "metadata": {},
     "output_type": "execute_result"
    }
   ],
   "source": [
    "# Geometry\n",
    "import numpy as np\n",
    "\n",
    "rOH = 1.0002e-10\n",
    "theta = 105./180*np.pi\n",
    "\n",
    "c1 = np.array([np.sin(theta/2), 0, np.cos(theta/2)])\n",
    "c2 = np.array([-np.sin(theta/2), 0, np.cos(theta/2)])\n",
    "c3 = np.array([0,0,0])\n",
    "\n",
    "c1 - c2\n",
    "\n"
   ]
  },
  {
   "cell_type": "markdown",
   "metadata": {},
   "source": []
  },
  {
   "cell_type": "markdown",
   "metadata": {},
   "source": []
  }
 ],
 "metadata": {
  "kernelspec": {
   "display_name": "Python 3",
   "language": "python",
   "name": "python3"
  },
  "language_info": {
   "codemirror_mode": {
    "name": "ipython",
    "version": 3
   },
   "file_extension": ".py",
   "mimetype": "text/x-python",
   "name": "python",
   "nbconvert_exporter": "python",
   "pygments_lexer": "ipython3",
   "version": "3.8.5"
  }
 },
 "nbformat": 4,
 "nbformat_minor": 4
}
