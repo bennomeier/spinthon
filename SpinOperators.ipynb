{
 "cells": [
  {
   "cell_type": "code",
   "execution_count": 1,
   "metadata": {},
   "outputs": [],
   "source": [
    "from importlib import reload\n",
    "\n",
    "from numpy import pi\n",
    "import numpy as np\n",
    "\n",
    "import spinthon.basis.zeeman\n",
    "import spinthon.basis.methyl\n",
    "from spinthon.spin import system\n",
    "\n",
    "import spinthon.basis.singletTriplet"
   ]
  },
  {
   "cell_type": "code",
   "execution_count": 2,
   "metadata": {},
   "outputs": [],
   "source": [
    "S1 = system.spinSystem([\"1H\", \"1H\", \"1H\", \"13C\"])\n",
    "S2 = system.spinSystem([\"1H\", \"1H\", \"17O\"])\n",
    "S3 = system.spinSystem([\"1H\", \"1H\"])\n",
    "\n",
    "S4 = system.spinSystem([\"2H\"])\n",
    "\n",
    "S2.basis = spinthon.basis.singletTriplet.singletTripletBasis(S2)"
   ]
  },
  {
   "cell_type": "code",
   "execution_count": 3,
   "metadata": {},
   "outputs": [
    {
     "data": {
      "text/plain": [
       "<module 'spinthon.spin.operators' from '/Users/benno/gitRepos/spinthon/spinthon/spin/operators.py'>"
      ]
     },
     "execution_count": 3,
     "metadata": {},
     "output_type": "execute_result"
    }
   ],
   "source": [
    "from spinthon.spin.operators import spinOperator, rotationOperatorSingle, rotationOperator, rotationOperatorDirect\n",
    "reload(spinthon.spin.operators)"
   ]
  },
  {
   "cell_type": "code",
   "execution_count": 4,
   "metadata": {},
   "outputs": [
    {
     "name": "stdout",
     "output_type": "stream",
     "text": [
      "[[ 2.+0.j  0.+0.j  0.+0.j  0.+0.j]\n",
      " [ 0.+0.j  0.+0.j  0.+0.j  0.+0.j]\n",
      " [ 0.+0.j  0.+0.j  0.+0.j  0.+0.j]\n",
      " [ 0.+0.j  0.+0.j  0.+0.j -2.+0.j]]\n",
      "[[1.+0.j 0.+0.j 0.+0.j 0.+0.j]\n",
      " [0.+0.j 1.+0.j 0.+0.j 0.+0.j]\n",
      " [0.+0.j 0.+0.j 1.-0.j 0.+0.j]\n",
      " [0.+0.j 0.+0.j 0.+0.j 1.-0.j]]\n",
      "[[4.+0.j 0.+0.j 0.+0.j 0.+0.j]\n",
      " [0.+0.j 0.+0.j 0.+0.j 0.+0.j]\n",
      " [0.+0.j 0.+0.j 0.+0.j 0.+0.j]\n",
      " [0.+0.j 0.+0.j 0.+0.j 0.+0.j]]\n"
     ]
    }
   ],
   "source": [
    "I1z = spinOperator(S3, 0, \"Iz\").getMatrixRepresentation()\n",
    "I2z = spinOperator(S3, 1, \"Iz\").getMatrixRepresentation()\n",
    "print(2*I1z+2*I2z)\n",
    "print(4*I1z*I1z)\n",
    "print(2*I1z+2*I2z+4*I1z*I2z + spinOperator(S3, 0, \"1\").getMatrixRepresentation())"
   ]
  },
  {
   "cell_type": "code",
   "execution_count": 5,
   "metadata": {},
   "outputs": [
    {
     "name": "stdout",
     "output_type": "stream",
     "text": [
      "[[ 0.70710678+0.j -0.70710678+0.j  0.        +0.j  0.        +0.j]\n",
      " [ 0.70710678+0.j  0.70710678+0.j  0.        +0.j  0.        +0.j]\n",
      " [ 0.        +0.j  0.        +0.j  0.70710678+0.j -0.70710678+0.j]\n",
      " [ 0.        +0.j  0.        +0.j  0.70710678+0.j  0.70710678+0.j]]\n"
     ]
    }
   ],
   "source": [
    "R1 = rotationOperatorSingle(S3, 0, pi/2, pi/2)\n",
    "R2 = rotationOperatorSingle(S3, 1, pi/2, pi/2)\n",
    "\n",
    "print(R2.matrix)"
   ]
  },
  {
   "cell_type": "code",
   "execution_count": 6,
   "metadata": {},
   "outputs": [
    {
     "name": "stdout",
     "output_type": "stream",
     "text": [
      "[[1.+0.j 1.+0.j 1.+0.j 1.+0.j]\n",
      " [1.+0.j 1.+0.j 1.+0.j 1.+0.j]\n",
      " [1.+0.j 1.+0.j 1.+0.j 1.+0.j]\n",
      " [1.+0.j 1.+0.j 1.+0.j 1.+0.j]]\n"
     ]
    }
   ],
   "source": [
    "# first is flip angle, then is phase\n",
    "R1 = rotationOperator(S3, pi/2, pi/2)\n",
    "R2 = rotationOperator(S3, -pi/2, pi/2)\n",
    "print(4 * R1.matrix @ np.diag([1,0,0,0]) @ R2.matrix)"
   ]
  },
  {
   "cell_type": "code",
   "execution_count": 7,
   "metadata": {},
   "outputs": [
    {
     "name": "stdout",
     "output_type": "stream",
     "text": [
      "[[ 1.+0.j -1.+0.j -1.+0.j  1.+0.j]\n",
      " [ 1.+0.j  1.+0.j -1.+0.j -1.+0.j]\n",
      " [ 1.+0.j -1.+0.j  1.+0.j -1.+0.j]\n",
      " [ 1.+0.j  1.+0.j  1.+0.j  1.+0.j]]\n",
      "[[ 1.+0.j -1.+0.j -1.+0.j  1.+0.j]\n",
      " [ 1.+0.j  1.+0.j -1.+0.j -1.+0.j]\n",
      " [ 1.+0.j -1.+0.j  1.+0.j -1.+0.j]\n",
      " [ 1.+0.j  1.+0.j  1.+0.j  1.+0.j]]\n"
     ]
    }
   ],
   "source": [
    "R3 = rotationOperatorDirect(S3, pi/2, pi/2)\n",
    "print(2*R3.matrix)\n",
    "print(2*R1.matrix)"
   ]
  },
  {
   "cell_type": "code",
   "execution_count": 6,
   "metadata": {},
   "outputs": [
    {
     "data": {
      "text/plain": [
       "array([ 1.58670668,  0.        ,  0.        ])"
      ]
     },
     "execution_count": 6,
     "metadata": {},
     "output_type": "execute_result"
    }
   ],
   "source": [
    "# Geometry\n",
    "import numpy as np\n",
    "\n",
    "rOH = 1.0002e-10\n",
    "theta = 105./180*np.pi\n",
    "\n",
    "c1 = np.array([np.sin(theta/2), 0, np.cos(theta/2)])\n",
    "c2 = np.array([-np.sin(theta/2), 0, np.cos(theta/2)])\n",
    "c3 = np.array([0,0,0])\n",
    "\n",
    "c1 - c2\n",
    "\n"
   ]
  },
  {
   "cell_type": "markdown",
   "metadata": {},
   "source": []
  },
  {
   "cell_type": "markdown",
   "metadata": {},
   "source": []
  }
 ],
 "metadata": {
  "kernelspec": {
   "display_name": "Python 3",
   "language": "python",
   "name": "python3"
  },
  "language_info": {
   "codemirror_mode": {
    "name": "ipython",
    "version": 3
   },
   "file_extension": ".py",
   "mimetype": "text/x-python",
   "name": "python",
   "nbconvert_exporter": "python",
   "pygments_lexer": "ipython3",
   "version": "3.6.7"
  }
 },
 "nbformat": 4,
 "nbformat_minor": 1
}
