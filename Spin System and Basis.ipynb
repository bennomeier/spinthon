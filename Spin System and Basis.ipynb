{
 "cells": [
  {
   "cell_type": "code",
   "execution_count": 1,
   "metadata": {},
   "outputs": [],
   "source": [
    "from importlib import reload\n",
    "\n",
    "import spinthon.basis.zeeman\n",
    "import spinthon.basis.methyl\n",
    "from spinthon.spin import system\n",
    "\n",
    "import spinthon.basis.singletTriplet"
   ]
  },
  {
   "cell_type": "code",
   "execution_count": 2,
   "metadata": {},
   "outputs": [],
   "source": [
    "S1 = system.spinSystem([\"1H\", \"1H\", \"1H\", \"13C\"])\n",
    "S2 = system.spinSystem([\"1H\", \"1H\", \"17O\"])\n",
    "S3 = system.spinSystem([\"1H\", \"1H\"])"
   ]
  },
  {
   "cell_type": "code",
   "execution_count": 3,
   "metadata": {},
   "outputs": [
    {
     "name": "stdout",
     "output_type": "stream",
     "text": [
      "-0.71 x<-0.5,0.5,-2.5| + 0.71 x<0.5,-0.5,-2.5|\n",
      "-0.71 x<-0.5,0.5,-1.5| + 0.71 x<0.5,-0.5,-1.5|\n",
      "-0.71 x<-0.5,0.5,-0.5| + 0.71 x<0.5,-0.5,-0.5|\n",
      "-0.71 x<-0.5,0.5,0.5| + 0.71 x<0.5,-0.5,0.5|\n",
      "-0.71 x<-0.5,0.5,1.5| + 0.71 x<0.5,-0.5,1.5|\n",
      "-0.71 x<-0.5,0.5,2.5| + 0.71 x<0.5,-0.5,2.5|\n",
      "1.00 x<-0.5,-0.5,-2.5|\n",
      "1.00 x<-0.5,-0.5,-1.5|\n",
      "1.00 x<-0.5,-0.5,-0.5|\n",
      "1.00 x<-0.5,-0.5,0.5|\n",
      "1.00 x<-0.5,-0.5,1.5|\n",
      "1.00 x<-0.5,-0.5,2.5|\n",
      "0.71 x<-0.5,0.5,-2.5| + 0.71 x<0.5,-0.5,-2.5|\n",
      "0.71 x<-0.5,0.5,-1.5| + 0.71 x<0.5,-0.5,-1.5|\n",
      "0.71 x<-0.5,0.5,-0.5| + 0.71 x<0.5,-0.5,-0.5|\n",
      "0.71 x<-0.5,0.5,0.5| + 0.71 x<0.5,-0.5,0.5|\n",
      "0.71 x<-0.5,0.5,1.5| + 0.71 x<0.5,-0.5,1.5|\n",
      "0.71 x<-0.5,0.5,2.5| + 0.71 x<0.5,-0.5,2.5|\n",
      "1.00 x<0.5,0.5,-2.5|\n",
      "1.00 x<0.5,0.5,-1.5|\n",
      "1.00 x<0.5,0.5,-0.5|\n",
      "1.00 x<0.5,0.5,0.5|\n",
      "1.00 x<0.5,0.5,1.5|\n",
      "1.00 x<0.5,0.5,2.5|\n",
      "Singlet Triplet Basis\n"
     ]
    }
   ],
   "source": [
    "basis = spinthon.basis.zeeman.zeemanProductBasis(S2)\n",
    "S2.basis = spinthon.basis.singletTriplet.singletTripletBasis(S2)\n",
    "\n",
    "#S1.basis = spinthon.basis.methyl.methyl_A_E(S1)\n",
    "\n",
    "print(S2.basis.name)\n",
    "#for b in basis:\n",
    "#    print b"
   ]
  },
  {
   "cell_type": "code",
   "execution_count": null,
   "metadata": {
    "collapsed": true
   },
   "outputs": [],
   "source": []
  }
 ],
 "metadata": {
  "kernelspec": {
   "display_name": "Python 3",
   "language": "python",
   "name": "python3"
  },
  "language_info": {
   "codemirror_mode": {
    "name": "ipython",
    "version": 3
   },
   "file_extension": ".py",
   "mimetype": "text/x-python",
   "name": "python",
   "nbconvert_exporter": "python",
   "pygments_lexer": "ipython3",
   "version": "3.6.1"
  }
 },
 "nbformat": 4,
 "nbformat_minor": 1
}
