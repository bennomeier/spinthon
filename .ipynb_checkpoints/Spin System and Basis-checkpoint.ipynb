{
 "cells": [
  {
   "cell_type": "code",
   "execution_count": 1,
   "metadata": {},
   "outputs": [
    {
     "ename": "SyntaxError",
     "evalue": "invalid syntax (system.py, line 75)",
     "output_type": "error",
     "traceback": [
      "\u001b[0;36m  File \u001b[0;32m\"/home/benno/gitRepos/spinthon/spinthon/spin/system.py\"\u001b[0;36m, line \u001b[0;32m75\u001b[0m\n\u001b[0;31m    if __name__ == \"__main__\":\u001b[0m\n\u001b[0m                             ^\u001b[0m\n\u001b[0;31mSyntaxError\u001b[0m\u001b[0;31m:\u001b[0m invalid syntax\n"
     ]
    }
   ],
   "source": [
    "from importlib import reload\n",
    "\n",
    "import spinthon.basis.zeeman\n",
    "import spinthon.basis.methyl\n",
    "from spinthon.spin import system\n",
    "\n",
    "import spinthon.basis.singletTriplet"
   ]
  },
  {
   "cell_type": "code",
   "execution_count": 3,
   "metadata": {},
   "outputs": [
    {
     "ename": "NameError",
     "evalue": "name 'system' is not defined",
     "output_type": "error",
     "traceback": [
      "\u001b[0;31m---------------------------------------------------------------------------\u001b[0m",
      "\u001b[0;31mNameError\u001b[0m                                 Traceback (most recent call last)",
      "\u001b[0;32m<ipython-input-3-30ef11908660>\u001b[0m in \u001b[0;36m<module>\u001b[0;34m()\u001b[0m\n\u001b[0;32m----> 1\u001b[0;31m \u001b[0mS1\u001b[0m \u001b[0;34m=\u001b[0m \u001b[0msystem\u001b[0m\u001b[0;34m.\u001b[0m\u001b[0mspinSystem\u001b[0m\u001b[0;34m(\u001b[0m\u001b[0;34m[\u001b[0m\u001b[0;34m\"1H\"\u001b[0m\u001b[0;34m,\u001b[0m \u001b[0;34m\"1H\"\u001b[0m\u001b[0;34m,\u001b[0m \u001b[0;34m\"1H\"\u001b[0m\u001b[0;34m,\u001b[0m \u001b[0;34m\"13C\"\u001b[0m\u001b[0;34m]\u001b[0m\u001b[0;34m)\u001b[0m\u001b[0;34m\u001b[0m\u001b[0m\n\u001b[0m\u001b[1;32m      2\u001b[0m \u001b[0;31m#S2 = system.spinSystem([\"1H\", \"1H\", \"17O\"])\u001b[0m\u001b[0;34m\u001b[0m\u001b[0;34m\u001b[0m\u001b[0m\n\u001b[1;32m      3\u001b[0m \u001b[0mS3\u001b[0m \u001b[0;34m=\u001b[0m \u001b[0msystem\u001b[0m\u001b[0;34m.\u001b[0m\u001b[0mspinSystem\u001b[0m\u001b[0;34m(\u001b[0m\u001b[0;34m[\u001b[0m\u001b[0;34m\"1H\"\u001b[0m\u001b[0;34m,\u001b[0m \u001b[0;34m\"1H\"\u001b[0m\u001b[0;34m]\u001b[0m\u001b[0;34m)\u001b[0m\u001b[0;34m\u001b[0m\u001b[0m\n",
      "\u001b[0;31mNameError\u001b[0m: name 'system' is not defined"
     ]
    }
   ],
   "source": [
    "S1 = system.spinSystem([\"1H\", \"1H\", \"1H\", \"13C\"])\n",
    "#S2 = system.spinSystem([\"1H\", \"1H\", \"17O\"])\n",
    "S3 = system.spinSystem([\"1H\", \"1H\"])"
   ]
  },
  {
   "cell_type": "code",
   "execution_count": 3,
   "metadata": {},
   "outputs": [
    {
     "name": "stdout",
     "output_type": "stream",
     "text": [
      "Zeeman Product Basis\n",
      "1.00 x|++++>\n",
      "1.00 x|+++->\n",
      "1.00 x|++-+>\n",
      "1.00 x|++-->\n",
      "1.00 x|+-++>\n",
      "1.00 x|+-+->\n",
      "1.00 x|+--+>\n",
      "1.00 x|+--->\n",
      "1.00 x|-+++>\n",
      "1.00 x|-++->\n",
      "1.00 x|-+-+>\n",
      "1.00 x|-+-->\n",
      "1.00 x|--++>\n",
      "1.00 x|--+->\n",
      "1.00 x|---+>\n",
      "1.00 x|---->\n"
     ]
    }
   ],
   "source": [
    "S1.basis = spinthon.basis.zeeman.zeemanProductBasis(S1)\n",
    "S3.basis = spinthon.basis.singletTriplet.singletTripletBasis(S3)\n",
    "\n",
    "#S1.basis = spinthon.basis.methyl.methyl_A_E(S1)\n",
    "\n",
    "print(S1.basis.name)\n",
    "\n",
    "for b in S1.basis:\n",
    "    print(b)"
   ]
  },
  {
   "cell_type": "code",
   "execution_count": 4,
   "metadata": {},
   "outputs": [
    {
     "name": "stdout",
     "output_type": "stream",
     "text": [
      "1.00 x|++++>\n",
      "1.00 x|+++->\n",
      "0.58 x|++-+> + 0.58 x|+-++> + 0.58 x|-+++>\n",
      "0.58 x|++--> + 0.58 x|+-+-> + 0.58 x|-++->\n",
      "0.58 x|+--+> + 0.58 x|-+-+> + 0.58 x|--++>\n",
      "0.58 x|+---> + 0.58 x|-+--> + 0.58 x|--+->\n",
      "1.00 x|---+>\n",
      "1.00 x|---->\n",
      "-0.29+0.50j x|++-+> + -0.29-0.50j x|+-++> + 0.58+0.00j x|-+++>\n",
      "-0.29+0.50j x|++--> + -0.29-0.50j x|+-+-> + 0.58+0.00j x|-++->\n",
      "-0.29-0.50j x|+--+> + -0.29+0.50j x|-+-+> + 0.58+0.00j x|--++>\n",
      "-0.29-0.50j x|+---> + -0.29+0.50j x|-+--> + 0.58+0.00j x|--+->\n",
      "-0.29-0.50j x|++-+> + -0.29+0.50j x|+-++> + 0.58+0.00j x|-+++>\n",
      "-0.29-0.50j x|++--> + -0.29+0.50j x|+-+-> + 0.58+0.00j x|-++->\n",
      "-0.29+0.50j x|+--+> + -0.29-0.50j x|-+-+> + 0.58+0.00j x|--++>\n",
      "-0.29+0.50j x|+---> + -0.29-0.50j x|-+--> + 0.58+0.00j x|--+->\n"
     ]
    }
   ],
   "source": [
    "S1.basis = spinthon.basis.methyl.methyl_A_E(S1)\n",
    "\n",
    "for b in S1.basis:\n",
    "    print(b)\n",
    "    \n",
    "# A states ok, E states not ok!    "
   ]
  },
  {
   "cell_type": "code",
   "execution_count": null,
   "metadata": {
    "collapsed": true
   },
   "outputs": [],
   "source": []
  },
  {
   "cell_type": "code",
   "execution_count": null,
   "metadata": {
    "collapsed": true
   },
   "outputs": [],
   "source": []
  }
 ],
 "metadata": {
  "kernelspec": {
   "display_name": "Python 3",
   "language": "python",
   "name": "python3"
  },
  "language_info": {
   "codemirror_mode": {
    "name": "ipython",
    "version": 3
   },
   "file_extension": ".py",
   "mimetype": "text/x-python",
   "name": "python",
   "nbconvert_exporter": "python",
   "pygments_lexer": "ipython3",
   "version": "3.6.4"
  }
 },
 "nbformat": 4,
 "nbformat_minor": 1
}
