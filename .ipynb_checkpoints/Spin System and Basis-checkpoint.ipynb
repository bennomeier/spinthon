{
 "cells": [
  {
   "cell_type": "code",
   "execution_count": 2,
   "metadata": {},
   "outputs": [
    {
     "ename": "ImportError",
     "evalue": "cannot import name 'BasisKet'",
     "output_type": "error",
     "traceback": [
      "\u001b[0;31m---------------------------------------------------------------------------\u001b[0m",
      "\u001b[0;31mImportError\u001b[0m                               Traceback (most recent call last)",
      "\u001b[0;32m<ipython-input-2-366041165e87>\u001b[0m in \u001b[0;36m<module>\u001b[0;34m()\u001b[0m\n\u001b[1;32m      1\u001b[0m \u001b[0;32mfrom\u001b[0m \u001b[0mimportlib\u001b[0m \u001b[0;32mimport\u001b[0m \u001b[0mreload\u001b[0m\u001b[0;34m\u001b[0m\u001b[0m\n\u001b[1;32m      2\u001b[0m \u001b[0;34m\u001b[0m\u001b[0m\n\u001b[0;32m----> 3\u001b[0;31m \u001b[0;32mimport\u001b[0m \u001b[0mspinthon\u001b[0m\u001b[0;34m.\u001b[0m\u001b[0mbasis\u001b[0m\u001b[0;34m.\u001b[0m\u001b[0mzeeman\u001b[0m\u001b[0;34m\u001b[0m\u001b[0m\n\u001b[0m\u001b[1;32m      4\u001b[0m \u001b[0;32mimport\u001b[0m \u001b[0mspinthon\u001b[0m\u001b[0;34m.\u001b[0m\u001b[0mbasis\u001b[0m\u001b[0;34m.\u001b[0m\u001b[0mmethyl\u001b[0m\u001b[0;34m\u001b[0m\u001b[0m\n\u001b[1;32m      5\u001b[0m \u001b[0;32mfrom\u001b[0m \u001b[0mspinthon\u001b[0m\u001b[0;34m.\u001b[0m\u001b[0mspin\u001b[0m \u001b[0;32mimport\u001b[0m \u001b[0msystem\u001b[0m\u001b[0;34m\u001b[0m\u001b[0m\n",
      "\u001b[0;32m/home/benno/gitRepos/spinthon/spinthon/basis/zeeman.py\u001b[0m in \u001b[0;36m<module>\u001b[0;34m()\u001b[0m\n\u001b[1;32m      6\u001b[0m \u001b[0;32mimport\u001b[0m \u001b[0mnumpy\u001b[0m \u001b[0;32mas\u001b[0m \u001b[0mnp\u001b[0m\u001b[0;34m\u001b[0m\u001b[0m\n\u001b[1;32m      7\u001b[0m \u001b[0;34m\u001b[0m\u001b[0m\n\u001b[0;32m----> 8\u001b[0;31m \u001b[0;32mfrom\u001b[0m \u001b[0mspinthon\u001b[0m\u001b[0;34m.\u001b[0m\u001b[0mbasis\u001b[0m\u001b[0;34m.\u001b[0m\u001b[0mvector\u001b[0m \u001b[0;32mimport\u001b[0m \u001b[0mKet\u001b[0m\u001b[0;34m,\u001b[0m \u001b[0mBasisKet\u001b[0m\u001b[0;34m\u001b[0m\u001b[0m\n\u001b[0m\u001b[1;32m      9\u001b[0m \u001b[0;34m\u001b[0m\u001b[0m\n\u001b[1;32m     10\u001b[0m \u001b[0;34m\u001b[0m\u001b[0m\n",
      "\u001b[0;31mImportError\u001b[0m: cannot import name 'BasisKet'"
     ]
    }
   ],
   "source": [
    "from importlib import reload\n",
    "\n",
    "import spinthon.basis.zeeman\n",
    "import spinthon.basis.methyl\n",
    "from spinthon.spin import system\n",
    "\n",
    "import spinthon.basis.singletTriplet"
   ]
  },
  {
   "cell_type": "code",
   "execution_count": 2,
   "metadata": {
    "collapsed": true
   },
   "outputs": [],
   "source": [
    "S1 = system.spinSystem([\"1H\", \"1H\", \"1H\", \"13C\"])\n",
    "S2 = system.spinSystem([\"1H\", \"1H\", \"17O\"])\n",
    "S3 = system.spinSystem([\"1H\", \"1H\"])"
   ]
  },
  {
   "cell_type": "code",
   "execution_count": 3,
   "metadata": {},
   "outputs": [
    {
     "name": "stdout",
     "output_type": "stream",
     "text": [
      "-0.71 x|-0.5,0.5,-2.5> + 0.71 x|0.5,-0.5,-2.5>\n",
      "-0.71 x|-0.5,0.5,-1.5> + 0.71 x|0.5,-0.5,-1.5>\n",
      "-0.71 x|-0.5,0.5,-0.5> + 0.71 x|0.5,-0.5,-0.5>\n",
      "-0.71 x|-0.5,0.5,0.5> + 0.71 x|0.5,-0.5,0.5>\n",
      "-0.71 x|-0.5,0.5,1.5> + 0.71 x|0.5,-0.5,1.5>\n",
      "-0.71 x|-0.5,0.5,2.5> + 0.71 x|0.5,-0.5,2.5>\n",
      "1.00 x|-0.5,-0.5,-2.5>\n",
      "1.00 x|-0.5,-0.5,-1.5>\n",
      "1.00 x|-0.5,-0.5,-0.5>\n",
      "1.00 x|-0.5,-0.5,0.5>\n",
      "1.00 x|-0.5,-0.5,1.5>\n",
      "1.00 x|-0.5,-0.5,2.5>\n",
      "0.71 x|-0.5,0.5,-2.5> + 0.71 x|0.5,-0.5,-2.5>\n",
      "0.71 x|-0.5,0.5,-1.5> + 0.71 x|0.5,-0.5,-1.5>\n",
      "0.71 x|-0.5,0.5,-0.5> + 0.71 x|0.5,-0.5,-0.5>\n",
      "0.71 x|-0.5,0.5,0.5> + 0.71 x|0.5,-0.5,0.5>\n",
      "0.71 x|-0.5,0.5,1.5> + 0.71 x|0.5,-0.5,1.5>\n",
      "0.71 x|-0.5,0.5,2.5> + 0.71 x|0.5,-0.5,2.5>\n",
      "1.00 x|0.5,0.5,-2.5>\n",
      "1.00 x|0.5,0.5,-1.5>\n",
      "1.00 x|0.5,0.5,-0.5>\n",
      "1.00 x|0.5,0.5,0.5>\n",
      "1.00 x|0.5,0.5,1.5>\n",
      "1.00 x|0.5,0.5,2.5>\n",
      "Singlet Triplet Basis\n"
     ]
    }
   ],
   "source": [
    "basis = spinthon.basis.zeeman.zeemanProductBasis(S2)\n",
    "S2.basis = spinthon.basis.singletTriplet.singletTripletBasis(S2)\n",
    "\n",
    "S1.basis = spinthon.basis.methyl.methyl_A_E(S1)\n",
    "\n",
    "print(S2.basis.name)\n",
    "#for b in basis:\n",
    "#    print b"
   ]
  }
 ],
 "metadata": {
  "kernelspec": {
   "display_name": "Python 3",
   "language": "python",
   "name": "python3"
  },
  "language_info": {
   "codemirror_mode": {
    "name": "ipython",
    "version": 3
   },
   "file_extension": ".py",
   "mimetype": "text/x-python",
   "name": "python",
   "nbconvert_exporter": "python",
   "pygments_lexer": "ipython3",
   "version": "3.6.1"
  }
 },
 "nbformat": 4,
 "nbformat_minor": 1
}
