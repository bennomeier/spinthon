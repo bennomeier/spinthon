{
 "cells": [
  {
   "cell_type": "code",
   "execution_count": 1,
   "metadata": {
    "collapsed": true
   },
   "outputs": [],
   "source": [
    "from importlib import reload\n",
    "\n",
    "import spinthon.basis.zeeman\n",
    "import spinthon.basis.methyl\n",
    "from spinthon.spin import system\n",
    "\n",
    "import spinthon.basis.singletTriplet"
   ]
  },
  {
   "cell_type": "code",
   "execution_count": 2,
   "metadata": {},
   "outputs": [
    {
     "name": "stdout",
     "output_type": "stream",
     "text": [
      "-0.71 x<-0.5,0.5,-2.5| + 0.71 x<0.5,-0.5,-2.5|\n",
      "-0.71 x<-0.5,0.5,-1.5| + 0.71 x<0.5,-0.5,-1.5|\n",
      "-0.71 x<-0.5,0.5,-0.5| + 0.71 x<0.5,-0.5,-0.5|\n",
      "-0.71 x<-0.5,0.5,0.5| + 0.71 x<0.5,-0.5,0.5|\n",
      "-0.71 x<-0.5,0.5,1.5| + 0.71 x<0.5,-0.5,1.5|\n",
      "-0.71 x<-0.5,0.5,2.5| + 0.71 x<0.5,-0.5,2.5|\n",
      "1.00 x<-0.5,-0.5,-2.5|\n",
      "1.00 x<-0.5,-0.5,-1.5|\n",
      "1.00 x<-0.5,-0.5,-0.5|\n",
      "1.00 x<-0.5,-0.5,0.5|\n",
      "1.00 x<-0.5,-0.5,1.5|\n",
      "1.00 x<-0.5,-0.5,2.5|\n",
      "0.71 x<-0.5,0.5,-2.5| + 0.71 x<0.5,-0.5,-2.5|\n",
      "0.71 x<-0.5,0.5,-1.5| + 0.71 x<0.5,-0.5,-1.5|\n",
      "0.71 x<-0.5,0.5,-0.5| + 0.71 x<0.5,-0.5,-0.5|\n",
      "0.71 x<-0.5,0.5,0.5| + 0.71 x<0.5,-0.5,0.5|\n",
      "0.71 x<-0.5,0.5,1.5| + 0.71 x<0.5,-0.5,1.5|\n",
      "0.71 x<-0.5,0.5,2.5| + 0.71 x<0.5,-0.5,2.5|\n",
      "1.00 x<0.5,0.5,-2.5|\n",
      "1.00 x<0.5,0.5,-1.5|\n",
      "1.00 x<0.5,0.5,-0.5|\n",
      "1.00 x<0.5,0.5,0.5|\n",
      "1.00 x<0.5,0.5,1.5|\n",
      "1.00 x<0.5,0.5,2.5|\n"
     ]
    }
   ],
   "source": [
    "S1 = system.spinSystem([\"1H\", \"1H\", \"1H\", \"13C\"])\n",
    "S2 = system.spinSystem([\"1H\", \"1H\", \"17O\"])\n",
    "S3 = system.spinSystem([\"1H\", \"1H\"])\n",
    "\n",
    "S4 = system.spinSystem([\"2H\"])\n",
    "\n",
    "S2.basis = spinthon.basis.singletTriplet.singletTripletBasis(S2)"
   ]
  },
  {
   "cell_type": "code",
   "execution_count": 4,
   "metadata": {
    "collapsed": true
   },
   "outputs": [],
   "source": [
    "from spinthon.spin.operators import spinOperator"
   ]
  },
  {
   "cell_type": "code",
   "execution_count": 5,
   "metadata": {},
   "outputs": [],
   "source": [
    "Iz0 = spinOperator(S4, 0, \"Iz\")"
   ]
  },
  {
   "cell_type": "code",
   "execution_count": 6,
   "metadata": {},
   "outputs": [
    {
     "name": "stdout",
     "output_type": "stream",
     "text": [
      "[[-1.  0.  0.]\n",
      " [ 0.  0.  0.]\n",
      " [ 0.  0.  1.]]\n"
     ]
    }
   ],
   "source": [
    "m = Iz0.getMatrixRepresentation()\n",
    "print(m)"
   ]
  },
  {
   "cell_type": "code",
   "execution_count": 15,
   "metadata": {},
   "outputs": [
    {
     "data": {
      "text/plain": [
       "array([[ 0.,  0.,  0.],\n",
       "       [ 0.,  0.,  2.],\n",
       "       [ 0.,  0.,  0.]])"
      ]
     },
     "execution_count": 15,
     "metadata": {},
     "output_type": "execute_result"
    }
   ],
   "source": [
    "mat[1,2] = 2\n",
    "mat"
   ]
  },
  {
   "cell_type": "markdown",
   "metadata": {},
   "source": []
  },
  {
   "cell_type": "markdown",
   "metadata": {},
   "source": []
  }
 ],
 "metadata": {
  "kernelspec": {
   "display_name": "Python 3",
   "language": "python",
   "name": "python3"
  },
  "language_info": {
   "codemirror_mode": {
    "name": "ipython",
    "version": 3
   },
   "file_extension": ".py",
   "mimetype": "text/x-python",
   "name": "python",
   "nbconvert_exporter": "python",
   "pygments_lexer": "ipython3",
   "version": "3.6.1"
  }
 },
 "nbformat": 4,
 "nbformat_minor": 1
}
